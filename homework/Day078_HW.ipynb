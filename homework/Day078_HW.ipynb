{
 "cells": [
  {
   "cell_type": "markdown",
   "metadata": {},
   "source": [
    "## Work\n",
    "1. 請嘗試將 preproc_x 替換成以每筆資料的 min/max 進行標準化至 -1 ~ 1 間，再進行訓練\n",
    "2. 請嘗試將 mlp 疊更深 (e.g 5~10 層)，進行訓練後觀察 learning curve 的走勢\n",
    "3. (optional) 請改用 GPU 進行訓練 (如果你有 GPU 的話)，比較使用 CPU 與 GPU 的訓練速度"
   ]
  },
  {
   "cell_type": "code",
   "execution_count": 1,
   "metadata": {},
   "outputs": [],
   "source": [
    "## \n",
    "\"\"\"\n",
    "Your code here (optional)\n",
    "確認硬體資源\n",
    "\"\"\"\n"
   ]
  },
  {
   "cell_type": "code",
   "execution_count": 1,
   "metadata": {},
   "outputs": [
    {
     "name": "stderr",
     "output_type": "stream",
     "text": [
      "Using TensorFlow backend.\n"
     ]
    }
   ],
   "source": [
    "import os\n",
    "import keras\n",
    "\n",
    "# 請嘗試設定 GPU：os.environ\n"
   ]
  },
  {
   "cell_type": "code",
   "execution_count": 2,
   "metadata": {},
   "outputs": [],
   "source": [
    "train, test = keras.datasets.cifar10.load_data()"
   ]
  },
  {
   "cell_type": "code",
   "execution_count": 3,
   "metadata": {},
   "outputs": [],
   "source": [
    "## 資料前處理\n",
    "\"\"\"\n",
    "Your code here\n",
    "\"\"\"\n",
    "def preproc_x(x, flatten=True):\n",
    "    x = (x-125) / 255\n",
    "    if flatten:\n",
    "        x = x.reshape((len(x), -1))\n",
    "    return x\n",
    "\n",
    "def preproc_y(y, num_classes=10):\n",
    "    if y.shape[-1] == 1:\n",
    "        y = keras.utils.to_categorical(y, num_classes)\n",
    "    return y    "
   ]
  },
  {
   "cell_type": "code",
   "execution_count": 4,
   "metadata": {},
   "outputs": [],
   "source": [
    "x_train, y_train = train\n",
    "x_test, y_test = test\n",
    "\n",
    "# Preproc the inputs\n",
    "x_train = preproc_x(x_train)\n",
    "x_test = preproc_x(x_test)\n",
    "\n",
    "# Preprc the outputs\n",
    "y_train = preproc_y(y_train)\n",
    "y_test = preproc_y(y_test)"
   ]
  },
  {
   "cell_type": "code",
   "execution_count": 5,
   "metadata": {},
   "outputs": [
    {
     "name": "stderr",
     "output_type": "stream",
     "text": [
      "WARNING: Logging before flag parsing goes to stderr.\n",
      "W0715 21:13:13.659154 15868 deprecation_wrapper.py:119] From C:\\ProgramData\\Anaconda3\\lib\\site-packages\\keras\\backend\\tensorflow_backend.py:74: The name tf.get_default_graph is deprecated. Please use tf.compat.v1.get_default_graph instead.\n",
      "\n",
      "W0715 21:13:13.720990 15868 deprecation_wrapper.py:119] From C:\\ProgramData\\Anaconda3\\lib\\site-packages\\keras\\backend\\tensorflow_backend.py:517: The name tf.placeholder is deprecated. Please use tf.compat.v1.placeholder instead.\n",
      "\n",
      "W0715 21:13:13.725976 15868 deprecation_wrapper.py:119] From C:\\ProgramData\\Anaconda3\\lib\\site-packages\\keras\\backend\\tensorflow_backend.py:4138: The name tf.random_uniform is deprecated. Please use tf.random.uniform instead.\n",
      "\n"
     ]
    },
    {
     "name": "stdout",
     "output_type": "stream",
     "text": [
      "_________________________________________________________________\n",
      "Layer (type)                 Output Shape              Param #   \n",
      "=================================================================\n",
      "input_1 (InputLayer)         (None, 3072)              0         \n",
      "_________________________________________________________________\n",
      "hidden_layer1 (Dense)        (None, 512)               1573376   \n",
      "_________________________________________________________________\n",
      "hidden_layer2 (Dense)        (None, 256)               131328    \n",
      "_________________________________________________________________\n",
      "hidden_layer3 (Dense)        (None, 128)               32896     \n",
      "_________________________________________________________________\n",
      "hidden_layer4 (Dense)        (None, 64)                8256      \n",
      "_________________________________________________________________\n",
      "hidden_layer5 (Dense)        (None, 32)                2080      \n",
      "_________________________________________________________________\n",
      "output (Dense)               (None, 10)                330       \n",
      "=================================================================\n",
      "Total params: 1,748,266\n",
      "Trainable params: 1,748,266\n",
      "Non-trainable params: 0\n",
      "_________________________________________________________________\n"
     ]
    }
   ],
   "source": [
    "\"\"\"Code Here\n",
    "建立你的神經網路\n",
    "\"\"\"\n",
    "def build_mlp(input_shape, output_units=10, num_neurons=[512, 256, 128,64,32]):\n",
    "    input_layer = keras.layers.Input(input_shape)\n",
    "    \n",
    "    for i, n_units in enumerate(num_neurons):\n",
    "        if i == 0:\n",
    "            x = keras.layers.Dense(units=n_units, activation=\"relu\", name=\"hidden_layer\"+str(i+1))(input_layer)\n",
    "        else:\n",
    "            x = keras.layers.Dense(units=n_units, activation=\"relu\", name=\"hidden_layer\"+str(i+1))(x)\n",
    "    \n",
    "    out = keras.layers.Dense(units=output_units, activation=\"softmax\", name=\"output\")(x)\n",
    "    \n",
    "    model = keras.models.Model(inputs=[input_layer], outputs=[out])\n",
    "    return model\n",
    "\n",
    "model = build_mlp(input_shape=x_train.shape[1:])\n",
    "model.summary()"
   ]
  },
  {
   "cell_type": "code",
   "execution_count": 6,
   "metadata": {},
   "outputs": [],
   "source": [
    "## 超參數設定\n",
    "LEARNING_RATE = 0.001\n",
    "EPOCHS = 100\n",
    "BATCH_SIZE = 256"
   ]
  },
  {
   "cell_type": "code",
   "execution_count": 7,
   "metadata": {},
   "outputs": [
    {
     "name": "stderr",
     "output_type": "stream",
     "text": [
      "W0715 21:13:19.351941 15868 deprecation_wrapper.py:119] From C:\\ProgramData\\Anaconda3\\lib\\site-packages\\keras\\optimizers.py:790: The name tf.train.Optimizer is deprecated. Please use tf.compat.v1.train.Optimizer instead.\n",
      "\n",
      "W0715 21:13:19.373880 15868 deprecation_wrapper.py:119] From C:\\ProgramData\\Anaconda3\\lib\\site-packages\\keras\\backend\\tensorflow_backend.py:3295: The name tf.log is deprecated. Please use tf.math.log instead.\n",
      "\n"
     ]
    }
   ],
   "source": [
    "optimizer = keras.optimizers.Adam(lr=LEARNING_RATE)\n",
    "model.compile(loss=\"categorical_crossentropy\", metrics=[\"accuracy\"], optimizer=optimizer)"
   ]
  },
  {
   "cell_type": "code",
   "execution_count": 8,
   "metadata": {},
   "outputs": [
    {
     "name": "stderr",
     "output_type": "stream",
     "text": [
      "W0715 21:13:21.050399 15868 deprecation.py:323] From C:\\ProgramData\\Anaconda3\\lib\\site-packages\\tensorflow\\python\\ops\\math_grad.py:1250: add_dispatch_support.<locals>.wrapper (from tensorflow.python.ops.array_ops) is deprecated and will be removed in a future version.\n",
      "Instructions for updating:\n",
      "Use tf.where in 2.0, which has the same broadcast rule as np.where\n",
      "W0715 21:13:21.302725 15868 deprecation_wrapper.py:119] From C:\\ProgramData\\Anaconda3\\lib\\site-packages\\keras\\backend\\tensorflow_backend.py:986: The name tf.assign_add is deprecated. Please use tf.compat.v1.assign_add instead.\n",
      "\n"
     ]
    },
    {
     "name": "stdout",
     "output_type": "stream",
     "text": [
      "Train on 50000 samples, validate on 10000 samples\n",
      "Epoch 1/100\n",
      "50000/50000 [==============================] - 21s 412us/step - loss: 2.1658 - acc: 0.1950 - val_loss: 2.0772 - val_acc: 0.2415\n",
      "Epoch 2/100\n",
      "50000/50000 [==============================] - 19s 380us/step - loss: 2.0242 - acc: 0.2690 - val_loss: 1.9838 - val_acc: 0.3001\n",
      "Epoch 3/100\n",
      "50000/50000 [==============================] - 19s 374us/step - loss: 1.9375 - acc: 0.3067 - val_loss: 1.9263 - val_acc: 0.3147\n",
      "Epoch 4/100\n",
      "50000/50000 [==============================] - 19s 379us/step - loss: 1.8722 - acc: 0.3339 - val_loss: 1.8744 - val_acc: 0.3291\n",
      "Epoch 5/100\n",
      "50000/50000 [==============================] - 19s 383us/step - loss: 1.8266 - acc: 0.3458 - val_loss: 1.8804 - val_acc: 0.3270\n",
      "Epoch 6/100\n",
      "50000/50000 [==============================] - 18s 365us/step - loss: 1.7909 - acc: 0.3593 - val_loss: 1.8211 - val_acc: 0.3437\n",
      "Epoch 7/100\n",
      "50000/50000 [==============================] - 19s 371us/step - loss: 1.7525 - acc: 0.3749 - val_loss: 1.8148 - val_acc: 0.3551\n",
      "Epoch 8/100\n",
      "50000/50000 [==============================] - 19s 372us/step - loss: 1.7042 - acc: 0.3943 - val_loss: 1.8133 - val_acc: 0.3576\n",
      "Epoch 9/100\n",
      "50000/50000 [==============================] - 23s 462us/step - loss: 1.6646 - acc: 0.4064 - val_loss: 1.8016 - val_acc: 0.3555\n",
      "Epoch 10/100\n",
      "50000/50000 [==============================] - 25s 507us/step - loss: 1.6394 - acc: 0.4174 - val_loss: 1.8511 - val_acc: 0.3491\n",
      "Epoch 11/100\n",
      "50000/50000 [==============================] - 20s 394us/step - loss: 1.5947 - acc: 0.4338 - val_loss: 1.8121 - val_acc: 0.3744\n",
      "Epoch 12/100\n",
      "50000/50000 [==============================] - 18s 364us/step - loss: 1.5710 - acc: 0.4434 - val_loss: 1.7822 - val_acc: 0.3807\n",
      "Epoch 13/100\n",
      "50000/50000 [==============================] - 18s 370us/step - loss: 1.5172 - acc: 0.4585 - val_loss: 1.8685 - val_acc: 0.3569\n",
      "Epoch 14/100\n",
      "50000/50000 [==============================] - 19s 389us/step - loss: 1.4961 - acc: 0.4670 - val_loss: 1.7844 - val_acc: 0.3814\n",
      "Epoch 15/100\n",
      "50000/50000 [==============================] - 20s 396us/step - loss: 1.4552 - acc: 0.4806 - val_loss: 1.7900 - val_acc: 0.3856\n",
      "Epoch 16/100\n",
      "50000/50000 [==============================] - 19s 378us/step - loss: 1.4157 - acc: 0.4963 - val_loss: 1.8110 - val_acc: 0.3857\n",
      "Epoch 17/100\n",
      "50000/50000 [==============================] - 18s 367us/step - loss: 1.3802 - acc: 0.5093 - val_loss: 1.8771 - val_acc: 0.3780\n",
      "Epoch 18/100\n",
      "50000/50000 [==============================] - 19s 381us/step - loss: 1.3416 - acc: 0.5249 - val_loss: 1.8492 - val_acc: 0.3821\n",
      "Epoch 19/100\n",
      "50000/50000 [==============================] - 19s 374us/step - loss: 1.3059 - acc: 0.5336 - val_loss: 1.8425 - val_acc: 0.3792\n",
      "Epoch 20/100\n",
      "50000/50000 [==============================] - 19s 379us/step - loss: 1.2637 - acc: 0.5508 - val_loss: 2.0470 - val_acc: 0.3512\n",
      "Epoch 21/100\n",
      "50000/50000 [==============================] - 19s 383us/step - loss: 1.2216 - acc: 0.5654 - val_loss: 1.9232 - val_acc: 0.3777\n",
      "Epoch 22/100\n",
      "50000/50000 [==============================] - 19s 374us/step - loss: 1.1879 - acc: 0.5787 - val_loss: 1.9663 - val_acc: 0.3814\n",
      "Epoch 23/100\n",
      "50000/50000 [==============================] - 18s 365us/step - loss: 1.1450 - acc: 0.5933 - val_loss: 2.0358 - val_acc: 0.3717\n",
      "Epoch 24/100\n",
      "50000/50000 [==============================] - 18s 366us/step - loss: 1.1131 - acc: 0.6036 - val_loss: 2.0389 - val_acc: 0.3834\n",
      "Epoch 25/100\n",
      "50000/50000 [==============================] - 19s 373us/step - loss: 1.0797 - acc: 0.6157 - val_loss: 2.0784 - val_acc: 0.3755\n",
      "Epoch 26/100\n",
      "50000/50000 [==============================] - 18s 368us/step - loss: 1.0482 - acc: 0.6275 - val_loss: 2.1164 - val_acc: 0.3719\n",
      "Epoch 27/100\n",
      "50000/50000 [==============================] - 18s 368us/step - loss: 0.9956 - acc: 0.6452 - val_loss: 2.1905 - val_acc: 0.3611\n",
      "Epoch 28/100\n",
      "50000/50000 [==============================] - 18s 367us/step - loss: 0.9597 - acc: 0.6574 - val_loss: 2.3945 - val_acc: 0.3541\n",
      "Epoch 29/100\n",
      "50000/50000 [==============================] - 18s 357us/step - loss: 0.9266 - acc: 0.6694 - val_loss: 2.2330 - val_acc: 0.3727\n",
      "Epoch 30/100\n",
      "50000/50000 [==============================] - 18s 362us/step - loss: 0.8964 - acc: 0.6800 - val_loss: 2.3574 - val_acc: 0.3704\n",
      "Epoch 31/100\n",
      "50000/50000 [==============================] - 19s 371us/step - loss: 0.8617 - acc: 0.6930 - val_loss: 2.5169 - val_acc: 0.3637\n",
      "Epoch 32/100\n",
      "50000/50000 [==============================] - 18s 356us/step - loss: 0.8304 - acc: 0.7043 - val_loss: 2.4795 - val_acc: 0.3668 1s - loss: 0.83\n",
      "Epoch 33/100\n",
      "50000/50000 [==============================] - 18s 365us/step - loss: 0.8069 - acc: 0.7127 - val_loss: 2.5453 - val_acc: 0.3638\n",
      "Epoch 34/100\n",
      "50000/50000 [==============================] - 19s 382us/step - loss: 0.7612 - acc: 0.7306 - val_loss: 2.7310 - val_acc: 0.3493\n",
      "Epoch 35/100\n",
      "50000/50000 [==============================] - 18s 364us/step - loss: 0.7483 - acc: 0.7326 - val_loss: 2.6621 - val_acc: 0.3623\n",
      "Epoch 36/100\n",
      "50000/50000 [==============================] - 18s 360us/step - loss: 0.7161 - acc: 0.7451 - val_loss: 2.7573 - val_acc: 0.3495\n",
      "Epoch 37/100\n",
      "50000/50000 [==============================] - 18s 359us/step - loss: 0.6962 - acc: 0.7501 - val_loss: 2.7012 - val_acc: 0.3525\n",
      "Epoch 38/100\n",
      "50000/50000 [==============================] - 18s 358us/step - loss: 0.6552 - acc: 0.7680 - val_loss: 2.9753 - val_acc: 0.35117\n",
      "Epoch 39/100\n",
      "50000/50000 [==============================] - 18s 366us/step - loss: 0.6474 - acc: 0.7690 - val_loss: 3.0481 - val_acc: 0.3541\n",
      "Epoch 40/100\n",
      "50000/50000 [==============================] - 18s 360us/step - loss: 0.6155 - acc: 0.7809 - val_loss: 3.1014 - val_acc: 0.3612\n",
      "Epoch 41/100\n",
      "50000/50000 [==============================] - 18s 360us/step - loss: 0.6050 - acc: 0.7856 - val_loss: 3.2236 - val_acc: 0.3647\n",
      "Epoch 42/100\n",
      "50000/50000 [==============================] - 18s 362us/step - loss: 0.5822 - acc: 0.7942 - val_loss: 3.2323 - val_acc: 0.3539\n",
      "Epoch 43/100\n",
      "50000/50000 [==============================] - 19s 375us/step - loss: 0.5696 - acc: 0.7973 - val_loss: 3.5915 - val_acc: 0.3417\n",
      "Epoch 44/100\n",
      "50000/50000 [==============================] - 18s 365us/step - loss: 0.5210 - acc: 0.8163 - val_loss: 3.4472 - val_acc: 0.3579\n",
      "Epoch 45/100\n",
      "50000/50000 [==============================] - 18s 364us/step - loss: 0.5036 - acc: 0.8207 - val_loss: 3.5655 - val_acc: 0.3511\n",
      "Epoch 46/100\n",
      "50000/50000 [==============================] - 18s 368us/step - loss: 0.4962 - acc: 0.8251 - val_loss: 3.4668 - val_acc: 0.3424\n",
      "Epoch 47/100\n",
      "50000/50000 [==============================] - 19s 385us/step - loss: 0.4829 - acc: 0.8284 - val_loss: 3.6274 - val_acc: 0.3475\n",
      "Epoch 48/100\n",
      "50000/50000 [==============================] - 18s 369us/step - loss: 0.4793 - acc: 0.8297 - val_loss: 3.6610 - val_acc: 0.3465: 0s - loss: 0.4806 - acc:\n",
      "Epoch 49/100\n",
      "50000/50000 [==============================] - 19s 374us/step - loss: 0.4695 - acc: 0.8342 - val_loss: 3.9655 - val_acc: 0.3508\n",
      "Epoch 50/100\n",
      "50000/50000 [==============================] - 18s 370us/step - loss: 0.4658 - acc: 0.8382 - val_loss: 3.6968 - val_acc: 0.3422\n",
      "Epoch 51/100\n",
      "50000/50000 [==============================] - 19s 376us/step - loss: 0.4089 - acc: 0.8544 - val_loss: 3.9747 - val_acc: 0.3474\n",
      "Epoch 52/100\n",
      "50000/50000 [==============================] - 18s 363us/step - loss: 0.4275 - acc: 0.8498 - val_loss: 3.8916 - val_acc: 0.3531\n",
      "Epoch 53/100\n",
      "50000/50000 [==============================] - 18s 369us/step - loss: 0.3900 - acc: 0.8637 - val_loss: 4.0952 - val_acc: 0.3520\n",
      "Epoch 54/100\n",
      "50000/50000 [==============================] - 18s 370us/step - loss: 0.3885 - acc: 0.8625 - val_loss: 4.0639 - val_acc: 0.3499\n",
      "Epoch 55/100\n",
      "50000/50000 [==============================] - 18s 365us/step - loss: 0.3960 - acc: 0.8604 - val_loss: 4.3514 - val_acc: 0.3460\n",
      "Epoch 56/100\n",
      "50000/50000 [==============================] - 18s 362us/step - loss: 0.3795 - acc: 0.8675 - val_loss: 4.2646 - val_acc: 0.333588 - acc: 0.86\n",
      "Epoch 57/100\n",
      "50000/50000 [==============================] - 18s 367us/step - loss: 0.3679 - acc: 0.8713 - val_loss: 4.2072 - val_acc: 0.3503\n",
      "Epoch 58/100\n"
     ]
    },
    {
     "name": "stdout",
     "output_type": "stream",
     "text": [
      "50000/50000 [==============================] - 18s 356us/step - loss: 0.3459 - acc: 0.8784 - val_loss: 4.2729 - val_acc: 0.3466\n",
      "Epoch 59/100\n",
      "50000/50000 [==============================] - 18s 354us/step - loss: 0.3432 - acc: 0.8793 - val_loss: 4.4707 - val_acc: 0.3534\n",
      "Epoch 60/100\n",
      "50000/50000 [==============================] - 18s 360us/step - loss: 0.3375 - acc: 0.8829 - val_loss: 4.5119 - val_acc: 0.3423\n",
      "Epoch 61/100\n",
      "50000/50000 [==============================] - 18s 361us/step - loss: 0.3009 - acc: 0.8945 - val_loss: 4.6803 - val_acc: 0.3405\n",
      "Epoch 62/100\n",
      "50000/50000 [==============================] - 18s 358us/step - loss: 0.3895 - acc: 0.8625 - val_loss: 4.4000 - val_acc: 0.3458\n",
      "Epoch 63/100\n",
      "50000/50000 [==============================] - 18s 353us/step - loss: 0.3208 - acc: 0.8874 - val_loss: 4.3896 - val_acc: 0.3477\n",
      "Epoch 64/100\n",
      "50000/50000 [==============================] - 18s 361us/step - loss: 0.3076 - acc: 0.8937 - val_loss: 4.8258 - val_acc: 0.3426\n",
      "Epoch 65/100\n",
      "50000/50000 [==============================] - 18s 361us/step - loss: 0.2804 - acc: 0.9021 - val_loss: 4.9393 - val_acc: 0.3419\n",
      "Epoch 66/100\n",
      "50000/50000 [==============================] - 20s 392us/step - loss: 0.3134 - acc: 0.8893 - val_loss: 4.7615 - val_acc: 0.3380\n",
      "Epoch 67/100\n",
      "50000/50000 [==============================] - 18s 369us/step - loss: 0.2945 - acc: 0.8972 - val_loss: 4.9534 - val_acc: 0.3352\n",
      "Epoch 68/100\n",
      "50000/50000 [==============================] - 18s 362us/step - loss: 0.3079 - acc: 0.8924 - val_loss: 4.7001 - val_acc: 0.3386\n",
      "Epoch 69/100\n",
      "50000/50000 [==============================] - 18s 355us/step - loss: 0.2554 - acc: 0.9105 - val_loss: 4.9304 - val_acc: 0.3387\n",
      "Epoch 70/100\n",
      "50000/50000 [==============================] - 19s 389us/step - loss: 0.2654 - acc: 0.9059 - val_loss: 4.8544 - val_acc: 0.3409\n",
      "Epoch 71/100\n",
      "50000/50000 [==============================] - 18s 360us/step - loss: 0.3106 - acc: 0.8915 - val_loss: 4.8688 - val_acc: 0.3398\n",
      "Epoch 72/100\n",
      "50000/50000 [==============================] - 18s 359us/step - loss: 0.2798 - acc: 0.9011 - val_loss: 5.0197 - val_acc: 0.3466\n",
      "Epoch 73/100\n",
      "50000/50000 [==============================] - 18s 368us/step - loss: 0.2582 - acc: 0.9115 - val_loss: 4.9353 - val_acc: 0.3398\n",
      "Epoch 74/100\n",
      "50000/50000 [==============================] - 18s 364us/step - loss: 0.2509 - acc: 0.9113 - val_loss: 5.1900 - val_acc: 0.3430\n",
      "Epoch 75/100\n",
      "50000/50000 [==============================] - 18s 361us/step - loss: 0.2687 - acc: 0.9040 - val_loss: 5.0774 - val_acc: 0.3360\n",
      "Epoch 76/100\n",
      "50000/50000 [==============================] - 18s 365us/step - loss: 0.2403 - acc: 0.9168 - val_loss: 5.1597 - val_acc: 0.3467\n",
      "Epoch 77/100\n",
      "50000/50000 [==============================] - 18s 369us/step - loss: 0.2329 - acc: 0.9186 - val_loss: 5.1457 - val_acc: 0.3489\n",
      "Epoch 78/100\n",
      "50000/50000 [==============================] - 18s 368us/step - loss: 0.2416 - acc: 0.9172 - val_loss: 5.0326 - val_acc: 0.3417\n",
      "Epoch 79/100\n",
      "50000/50000 [==============================] - 18s 368us/step - loss: 0.2657 - acc: 0.9086 - val_loss: 5.2930 - val_acc: 0.3411\n",
      "Epoch 80/100\n",
      "50000/50000 [==============================] - 18s 369us/step - loss: 0.2267 - acc: 0.9223 - val_loss: 5.4222 - val_acc: 0.3422\n",
      "Epoch 81/100\n",
      "50000/50000 [==============================] - 18s 365us/step - loss: 0.2619 - acc: 0.9088 - val_loss: 5.1883 - val_acc: 0.3431\n",
      "Epoch 82/100\n",
      "50000/50000 [==============================] - 18s 360us/step - loss: 0.2219 - acc: 0.9228 - val_loss: 5.1726 - val_acc: 0.3297\n",
      "Epoch 83/100\n",
      "50000/50000 [==============================] - 18s 366us/step - loss: 0.2597 - acc: 0.9105 - val_loss: 4.9614 - val_acc: 0.3410\n",
      "Epoch 84/100\n",
      "50000/50000 [==============================] - 18s 366us/step - loss: 0.1843 - acc: 0.9368 - val_loss: 5.4651 - val_acc: 0.3467\n",
      "Epoch 85/100\n",
      "50000/50000 [==============================] - 18s 369us/step - loss: 0.2289 - acc: 0.9218 - val_loss: 5.2167 - val_acc: 0.3287\n",
      "Epoch 86/100\n",
      "50000/50000 [==============================] - 19s 371us/step - loss: 0.2049 - acc: 0.9282 - val_loss: 5.7602 - val_acc: 0.3307\n",
      "Epoch 87/100\n",
      "50000/50000 [==============================] - 18s 367us/step - loss: 0.2204 - acc: 0.9230 - val_loss: 5.3635 - val_acc: 0.3485\n",
      "Epoch 88/100\n",
      "50000/50000 [==============================] - 18s 366us/step - loss: 0.2357 - acc: 0.9177 - val_loss: 5.4727 - val_acc: 0.3334\n",
      "Epoch 89/100\n",
      "50000/50000 [==============================] - 18s 363us/step - loss: 0.2384 - acc: 0.9185 - val_loss: 5.3058 - val_acc: 0.3447\n",
      "Epoch 90/100\n",
      "50000/50000 [==============================] - 18s 360us/step - loss: 0.1827 - acc: 0.9379 - val_loss: 5.4706 - val_acc: 0.3452\n",
      "Epoch 91/100\n",
      "50000/50000 [==============================] - 18s 357us/step - loss: 0.1793 - acc: 0.9381 - val_loss: 5.5145 - val_acc: 0.3383\n",
      "Epoch 92/100\n",
      "50000/50000 [==============================] - 18s 356us/step - loss: 0.2131 - acc: 0.9261 - val_loss: 5.3941 - val_acc: 0.3506\n",
      "Epoch 93/100\n",
      "50000/50000 [==============================] - 18s 368us/step - loss: 0.1817 - acc: 0.9375 - val_loss: 5.6473 - val_acc: 0.3292\n",
      "Epoch 94/100\n",
      "50000/50000 [==============================] - 18s 359us/step - loss: 0.3009 - acc: 0.8978 - val_loss: 5.3074 - val_acc: 0.3399\n",
      "Epoch 95/100\n",
      "50000/50000 [==============================] - 18s 357us/step - loss: 0.1307 - acc: 0.9563 - val_loss: 5.6848 - val_acc: 0.3470\n",
      "Epoch 96/100\n",
      "50000/50000 [==============================] - 18s 358us/step - loss: 0.1673 - acc: 0.9425 - val_loss: 5.5294 - val_acc: 0.3421\n",
      "Epoch 97/100\n",
      "50000/50000 [==============================] - 18s 358us/step - loss: 0.2233 - acc: 0.9244 - val_loss: 5.5993 - val_acc: 0.3426\n",
      "Epoch 98/100\n",
      "50000/50000 [==============================] - 19s 371us/step - loss: 0.2159 - acc: 0.9255 - val_loss: 5.6799 - val_acc: 0.3442\n",
      "Epoch 99/100\n",
      "50000/50000 [==============================] - 20s 391us/step - loss: 0.1480 - acc: 0.9496 - val_loss: 5.7832 - val_acc: 0.3317\n",
      "Epoch 100/100\n",
      "50000/50000 [==============================] - 18s 361us/step - loss: 0.2594 - acc: 0.9128 - val_loss: 5.3142 - val_acc: 0.3416\n"
     ]
    },
    {
     "data": {
      "text/plain": [
       "<keras.callbacks.History at 0x1d580668e10>"
      ]
     },
     "execution_count": 8,
     "metadata": {},
     "output_type": "execute_result"
    }
   ],
   "source": [
    "model.fit(x_train, y_train, \n",
    "          epochs=EPOCHS, \n",
    "          batch_size=BATCH_SIZE, \n",
    "          validation_data=(x_test, y_test), \n",
    "          shuffle=True)"
   ]
  },
  {
   "cell_type": "code",
   "execution_count": 10,
   "metadata": {},
   "outputs": [
    {
     "data": {
      "image/png": "[encoded data removed]",
      "text/plain": [
       "<Figure size 432x288 with 1 Axes>"
      ]
     },
     "metadata": {
      "needs_background": "light"
     },
     "output_type": "display_data"
    },
    {
     "data": {
      "image/png": "[encoded data removed]",
      "text/plain": [
       "<Figure size 432x288 with 1 Axes>"
      ]
     },
     "metadata": {
      "needs_background": "light"
     },
     "output_type": "display_data"
    }
   ],
   "source": [
    "import matplotlib.pyplot as plt\n",
    "\n",
    "\n",
    "train_loss = model.history.history[\"loss\"]\n",
    "valid_loss = model.history.history[\"val_loss\"]\n",
    "\n",
    "train_acc = model.history.history[\"acc\"]\n",
    "valid_acc = model.history.history[\"val_acc\"]\n",
    "\n",
    "plt.plot(range(len(train_loss)), train_loss, label=\"train loss\")\n",
    "plt.plot(range(len(valid_loss)), valid_loss, label=\"valid loss\")\n",
    "plt.legend()\n",
    "plt.title(\"Loss\")\n",
    "plt.show()\n",
    "\n",
    "plt.plot(range(len(train_acc)), train_acc, label=\"train accuracy\")\n",
    "plt.plot(range(len(valid_acc)), valid_acc, label=\"valid accuracy\")\n",
    "plt.legend()\n",
    "plt.title(\"Accuracy\")\n",
    "plt.show()"
   ]
  },
  {
   "cell_type": "code",
   "execution_count": null,
   "metadata": {},
   "outputs": [],
   "source": []
  }
 ],
 "metadata": {
  "kernelspec": {
   "display_name": "Python 3",
   "language": "python",
   "name": "python3"
  },
  "language_info": {
   "codemirror_mode": {
    "name": "ipython",
    "version": 3
   },
   "file_extension": ".py",
   "mimetype": "text/x-python",
   "name": "python",
   "nbconvert_exporter": "python",
   "pygments_lexer": "ipython3",
   "version": "3.7.3"
  }
 },
 "nbformat": 4,
 "nbformat_minor": 2
}
