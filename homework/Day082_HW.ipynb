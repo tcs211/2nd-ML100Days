{
 "cells": [
  {
   "cell_type": "markdown",
   "metadata": {},
   "source": [
    "## Work\n",
    "1. 請比較使用不同層數以及不同 Dropout rate 對訓練的效果\n",
    "2. 將 optimizer 改成使用 Adam 並加上適當的 dropout rate 檢視結果"
   ]
  },
  {
   "cell_type": "code",
   "execution_count": 1,
   "metadata": {},
   "outputs": [
    {
     "name": "stderr",
     "output_type": "stream",
     "text": [
      "Using TensorFlow backend.\n"
     ]
    }
   ],
   "source": [
    "import os\n",
    "import keras\n",
    "import itertools\n",
    "# Disable GPU\n",
    "os.environ[\"CUDA_VISIBLE_DEVICES\"] = \"\""
   ]
  },
  {
   "cell_type": "code",
   "execution_count": 2,
   "metadata": {},
   "outputs": [],
   "source": [
    "train, test = keras.datasets.cifar10.load_data()"
   ]
  },
  {
   "cell_type": "code",
   "execution_count": 3,
   "metadata": {},
   "outputs": [],
   "source": [
    "## 資料前處理\n",
    "def preproc_x(x, flatten=True):\n",
    "    x = x / 255.\n",
    "    if flatten:\n",
    "        x = x.reshape((len(x), -1))\n",
    "    return x\n",
    "\n",
    "def preproc_y(y, num_classes=10):\n",
    "    if y.shape[-1] == 1:\n",
    "        y = keras.utils.to_categorical(y, num_classes)\n",
    "    return y    "
   ]
  },
  {
   "cell_type": "code",
   "execution_count": 4,
   "metadata": {},
   "outputs": [],
   "source": [
    "x_train, y_train = train\n",
    "x_test, y_test = test\n",
    "\n",
    "# Preproc the inputs\n",
    "x_train = preproc_x(x_train)\n",
    "x_test = preproc_x(x_test)\n",
    "\n",
    "# Preprc the outputs\n",
    "y_train = preproc_y(y_train)\n",
    "y_test = preproc_y(y_test)"
   ]
  },
  {
   "cell_type": "code",
   "execution_count": 5,
   "metadata": {},
   "outputs": [],
   "source": [
    "from keras.layers import Dropout\n",
    "def build_mlp(input_shape, output_units=10, num_neurons=[512, 256, 128], drp_ratio=0.2):\n",
    "    input_layer = keras.layers.Input(input_shape)\n",
    "    \n",
    "    for i, n_units in enumerate(num_neurons):\n",
    "        if i == 0:\n",
    "            x = keras.layers.Dense(units=n_units, \n",
    "                                   activation=\"relu\", \n",
    "                                   name=\"hidden_layer\"+str(i+1))(input_layer)\n",
    "            x = Dropout(drp_ratio)(x)\n",
    "        else:\n",
    "            x = keras.layers.Dense(units=n_units, \n",
    "                                   activation=\"relu\", \n",
    "                                   name=\"hidden_layer\"+str(i+1))(x)\n",
    "            x = Dropout(drp_ratio)(x)\n",
    "    \n",
    "    out = keras.layers.Dense(units=output_units, activation=\"softmax\", name=\"output\")(x)\n",
    "    \n",
    "    model = keras.models.Model(inputs=[input_layer], outputs=[out])\n",
    "    return model"
   ]
  },
  {
   "cell_type": "code",
   "execution_count": 6,
   "metadata": {},
   "outputs": [],
   "source": [
    "\"\"\"Code Here\n",
    "設定超參數\n",
    "\"\"\"\n",
    "LEARNING_RATE = 1e-3\n",
    "EPOCHS = 50\n",
    "BATCH_SIZE = 256\n",
    "MOMENTUM = 0.95\n",
    "Dropout_EXP = 0.2"
   ]
  },
  {
   "cell_type": "code",
   "execution_count": 7,
   "metadata": {
    "scrolled": true
   },
   "outputs": [
    {
     "name": "stderr",
     "output_type": "stream",
     "text": [
      "WARNING: Logging before flag parsing goes to stderr.\n",
      "W0719 21:12:17.571546 36624 deprecation_wrapper.py:119] From C:\\ProgramData\\Anaconda3\\lib\\site-packages\\keras\\backend\\tensorflow_backend.py:74: The name tf.get_default_graph is deprecated. Please use tf.compat.v1.get_default_graph instead.\n",
      "\n",
      "W0719 21:12:17.635372 36624 deprecation_wrapper.py:119] From C:\\ProgramData\\Anaconda3\\lib\\site-packages\\keras\\backend\\tensorflow_backend.py:517: The name tf.placeholder is deprecated. Please use tf.compat.v1.placeholder instead.\n",
      "\n",
      "W0719 21:12:17.640361 36624 deprecation_wrapper.py:119] From C:\\ProgramData\\Anaconda3\\lib\\site-packages\\keras\\backend\\tensorflow_backend.py:4138: The name tf.random_uniform is deprecated. Please use tf.random.uniform instead.\n",
      "\n",
      "W0719 21:12:17.735109 36624 deprecation_wrapper.py:119] From C:\\ProgramData\\Anaconda3\\lib\\site-packages\\keras\\backend\\tensorflow_backend.py:133: The name tf.placeholder_with_default is deprecated. Please use tf.compat.v1.placeholder_with_default instead.\n",
      "\n",
      "W0719 21:12:17.755052 36624 deprecation.py:506] From C:\\ProgramData\\Anaconda3\\lib\\site-packages\\keras\\backend\\tensorflow_backend.py:3445: calling dropout (from tensorflow.python.ops.nn_ops) with keep_prob is deprecated and will be removed in a future version.\n",
      "Instructions for updating:\n",
      "Please use `rate` instead of `keep_prob`. Rate should be set to `rate = 1 - keep_prob`.\n",
      "W0719 21:12:18.223801 36624 deprecation_wrapper.py:119] From C:\\ProgramData\\Anaconda3\\lib\\site-packages\\keras\\optimizers.py:790: The name tf.train.Optimizer is deprecated. Please use tf.compat.v1.train.Optimizer instead.\n",
      "\n",
      "W0719 21:12:18.253721 36624 deprecation_wrapper.py:119] From C:\\ProgramData\\Anaconda3\\lib\\site-packages\\keras\\backend\\tensorflow_backend.py:3295: The name tf.log is deprecated. Please use tf.math.log instead.\n",
      "\n"
     ]
    },
    {
     "name": "stdout",
     "output_type": "stream",
     "text": [
      "_________________________________________________________________\n",
      "Layer (type)                 Output Shape              Param #   \n",
      "=================================================================\n",
      "input_1 (InputLayer)         (None, 3072)              0         \n",
      "_________________________________________________________________\n",
      "hidden_layer1 (Dense)        (None, 512)               1573376   \n",
      "_________________________________________________________________\n",
      "dropout_1 (Dropout)          (None, 512)               0         \n",
      "_________________________________________________________________\n",
      "hidden_layer2 (Dense)        (None, 256)               131328    \n",
      "_________________________________________________________________\n",
      "dropout_2 (Dropout)          (None, 256)               0         \n",
      "_________________________________________________________________\n",
      "hidden_layer3 (Dense)        (None, 128)               32896     \n",
      "_________________________________________________________________\n",
      "dropout_3 (Dropout)          (None, 128)               0         \n",
      "_________________________________________________________________\n",
      "output (Dense)               (None, 10)                1290      \n",
      "=================================================================\n",
      "Total params: 1,738,890\n",
      "Trainable params: 1,738,890\n",
      "Non-trainable params: 0\n",
      "_________________________________________________________________\n"
     ]
    },
    {
     "name": "stderr",
     "output_type": "stream",
     "text": [
      "W0719 21:12:18.726461 36624 deprecation.py:323] From C:\\ProgramData\\Anaconda3\\lib\\site-packages\\tensorflow\\python\\ops\\math_grad.py:1250: add_dispatch_support.<locals>.wrapper (from tensorflow.python.ops.array_ops) is deprecated and will be removed in a future version.\n",
      "Instructions for updating:\n",
      "Use tf.where in 2.0, which has the same broadcast rule as np.where\n"
     ]
    },
    {
     "name": "stdout",
     "output_type": "stream",
     "text": [
      "Train on 50000 samples, validate on 10000 samples\n",
      "Epoch 1/50\n",
      "50000/50000 [==============================] - 24s 475us/step - loss: 2.0088 - acc: 0.2631 - val_loss: 1.7855 - val_acc: 0.3640\n",
      "Epoch 2/50\n",
      "50000/50000 [==============================] - 21s 429us/step - loss: 1.8274 - acc: 0.3380 - val_loss: 1.7105 - val_acc: 0.3836\n",
      "Epoch 3/50\n",
      "50000/50000 [==============================] - 19s 381us/step - loss: 1.7672 - acc: 0.3620 - val_loss: 1.6508 - val_acc: 0.4122\n",
      "Epoch 4/50\n",
      "50000/50000 [==============================] - 19s 384us/step - loss: 1.7281 - acc: 0.3782 - val_loss: 1.6337 - val_acc: 0.4179\n",
      "Epoch 5/50\n",
      "50000/50000 [==============================] - 20s 401us/step - loss: 1.6967 - acc: 0.3888 - val_loss: 1.6233 - val_acc: 0.4164\n",
      "Epoch 6/50\n",
      "50000/50000 [==============================] - 21s 411us/step - loss: 1.6571 - acc: 0.4032 - val_loss: 1.5790 - val_acc: 0.4341\n",
      "Epoch 7/50\n",
      "50000/50000 [==============================] - 22s 448us/step - loss: 1.6367 - acc: 0.4121 - val_loss: 1.5407 - val_acc: 0.4500\n",
      "Epoch 8/50\n",
      "50000/50000 [==============================] - 22s 439us/step - loss: 1.6174 - acc: 0.4206 - val_loss: 1.5352 - val_acc: 0.4479\n",
      "Epoch 9/50\n",
      "50000/50000 [==============================] - 22s 441us/step - loss: 1.6132 - acc: 0.4199 - val_loss: 1.4997 - val_acc: 0.4662\n",
      "Epoch 10/50\n",
      "50000/50000 [==============================] - 21s 419us/step - loss: 1.5999 - acc: 0.4244 - val_loss: 1.5211 - val_acc: 0.4567\n",
      "Epoch 11/50\n",
      "50000/50000 [==============================] - 21s 420us/step - loss: 1.5875 - acc: 0.4288 - val_loss: 1.5308 - val_acc: 0.4579\n",
      "Epoch 12/50\n",
      "50000/50000 [==============================] - 21s 411us/step - loss: 1.5713 - acc: 0.4339 - val_loss: 1.5023 - val_acc: 0.4610\n",
      "Epoch 13/50\n",
      "50000/50000 [==============================] - 21s 425us/step - loss: 1.5519 - acc: 0.4433 - val_loss: 1.4545 - val_acc: 0.4694\n",
      "Epoch 14/50\n",
      "50000/50000 [==============================] - 22s 434us/step - loss: 1.5386 - acc: 0.4494 - val_loss: 1.4657 - val_acc: 0.4733\n",
      "Epoch 15/50\n",
      "50000/50000 [==============================] - 22s 431us/step - loss: 1.5348 - acc: 0.4486 - val_loss: 1.4716 - val_acc: 0.4729\n",
      "Epoch 16/50\n",
      "50000/50000 [==============================] - 21s 423us/step - loss: 1.5271 - acc: 0.4528 - val_loss: 1.4641 - val_acc: 0.4794\n",
      "Epoch 17/50\n",
      "50000/50000 [==============================] - 21s 427us/step - loss: 1.5206 - acc: 0.4542 - val_loss: 1.4553 - val_acc: 0.4827\n",
      "Epoch 18/50\n",
      "50000/50000 [==============================] - 22s 435us/step - loss: 1.5085 - acc: 0.4597 - val_loss: 1.4677 - val_acc: 0.4807\n",
      "Epoch 19/50\n",
      "50000/50000 [==============================] - 22s 436us/step - loss: 1.5094 - acc: 0.4554 - val_loss: 1.4704 - val_acc: 0.4764\n",
      "Epoch 20/50\n",
      "50000/50000 [==============================] - 22s 437us/step - loss: 1.4987 - acc: 0.4613 - val_loss: 1.4420 - val_acc: 0.4917\n",
      "Epoch 21/50\n",
      "50000/50000 [==============================] - 21s 428us/step - loss: 1.4943 - acc: 0.4647 - val_loss: 1.4486 - val_acc: 0.4844\n",
      "Epoch 22/50\n",
      "50000/50000 [==============================] - 22s 431us/step - loss: 1.4874 - acc: 0.4670 - val_loss: 1.4494 - val_acc: 0.4835\n",
      "Epoch 23/50\n",
      "50000/50000 [==============================] - 22s 438us/step - loss: 1.4737 - acc: 0.4715 - val_loss: 1.4244 - val_acc: 0.4905\n",
      "Epoch 24/50\n",
      "50000/50000 [==============================] - 22s 438us/step - loss: 1.4723 - acc: 0.4689 - val_loss: 1.4189 - val_acc: 0.4933\n",
      "Epoch 25/50\n",
      "50000/50000 [==============================] - 22s 435us/step - loss: 1.4620 - acc: 0.4755 - val_loss: 1.4299 - val_acc: 0.4915\n",
      "Epoch 26/50\n",
      "50000/50000 [==============================] - 21s 426us/step - loss: 1.4652 - acc: 0.4747 - val_loss: 1.4322 - val_acc: 0.4861\n",
      "Epoch 27/50\n",
      "50000/50000 [==============================] - 22s 437us/step - loss: 1.4588 - acc: 0.4771 - val_loss: 1.4032 - val_acc: 0.4991\n",
      "Epoch 28/50\n",
      "50000/50000 [==============================] - 21s 429us/step - loss: 1.4540 - acc: 0.4773 - val_loss: 1.4364 - val_acc: 0.4875\n",
      "Epoch 29/50\n",
      "50000/50000 [==============================] - 21s 419us/step - loss: 1.4538 - acc: 0.4808 - val_loss: 1.4243 - val_acc: 0.4966\n",
      "Epoch 30/50\n",
      "50000/50000 [==============================] - 22s 438us/step - loss: 1.4403 - acc: 0.4813 - val_loss: 1.4050 - val_acc: 0.5011\n",
      "Epoch 31/50\n",
      "50000/50000 [==============================] - 21s 411us/step - loss: 1.4430 - acc: 0.4820 - val_loss: 1.4008 - val_acc: 0.5004\n",
      "Epoch 32/50\n",
      "50000/50000 [==============================] - 23s 458us/step - loss: 1.4380 - acc: 0.4823 - val_loss: 1.4156 - val_acc: 0.4947\n",
      "Epoch 33/50\n",
      "50000/50000 [==============================] - 24s 479us/step - loss: 1.4378 - acc: 0.4847 - val_loss: 1.4149 - val_acc: 0.4947\n",
      "Epoch 34/50\n",
      "50000/50000 [==============================] - 22s 445us/step - loss: 1.4310 - acc: 0.4869 - val_loss: 1.4021 - val_acc: 0.4945\n",
      "Epoch 35/50\n",
      "50000/50000 [==============================] - 22s 443us/step - loss: 1.4240 - acc: 0.4889 - val_loss: 1.4123 - val_acc: 0.4962\n",
      "Epoch 36/50\n",
      "50000/50000 [==============================] - 22s 440us/step - loss: 1.4252 - acc: 0.4883 - val_loss: 1.3911 - val_acc: 0.5044\n",
      "Epoch 37/50\n",
      "50000/50000 [==============================] - 21s 429us/step - loss: 1.4168 - acc: 0.4924 - val_loss: 1.4355 - val_acc: 0.4984\n",
      "Epoch 38/50\n",
      "50000/50000 [==============================] - 21s 430us/step - loss: 1.4061 - acc: 0.4960 - val_loss: 1.4237 - val_acc: 0.4950\n",
      "Epoch 39/50\n",
      "50000/50000 [==============================] - 22s 430us/step - loss: 1.4098 - acc: 0.4945 - val_loss: 1.4071 - val_acc: 0.5001\n",
      "Epoch 40/50\n",
      "50000/50000 [==============================] - 21s 426us/step - loss: 1.4033 - acc: 0.4962 - val_loss: 1.4095 - val_acc: 0.4961\n",
      "Epoch 41/50\n",
      "50000/50000 [==============================] - 21s 430us/step - loss: 1.3984 - acc: 0.4984 - val_loss: 1.4153 - val_acc: 0.4940\n",
      "Epoch 42/50\n",
      "50000/50000 [==============================] - 21s 427us/step - loss: 1.4018 - acc: 0.4993 - val_loss: 1.3874 - val_acc: 0.5071\n",
      "Epoch 43/50\n",
      "50000/50000 [==============================] - 21s 418us/step - loss: 1.3974 - acc: 0.4981 - val_loss: 1.3952 - val_acc: 0.5020\n",
      "Epoch 44/50\n",
      "50000/50000 [==============================] - 20s 398us/step - loss: 1.3963 - acc: 0.4995 - val_loss: 1.3909 - val_acc: 0.5121\n",
      "Epoch 45/50\n",
      "50000/50000 [==============================] - 14s 271us/step - loss: 1.3866 - acc: 0.5044 - val_loss: 1.3872 - val_acc: 0.5099\n",
      "Epoch 46/50\n",
      "50000/50000 [==============================] - 13s 257us/step - loss: 1.3989 - acc: 0.4986 - val_loss: 1.3755 - val_acc: 0.5081\n",
      "Epoch 47/50\n",
      "50000/50000 [==============================] - 13s 257us/step - loss: 1.3817 - acc: 0.5033 - val_loss: 1.3706 - val_acc: 0.5067\n",
      "Epoch 48/50\n",
      "50000/50000 [==============================] - 14s 271us/step - loss: 1.3764 - acc: 0.5059 - val_loss: 1.3901 - val_acc: 0.5029\n",
      "Epoch 49/50\n",
      "50000/50000 [==============================] - 13s 257us/step - loss: 1.3775 - acc: 0.5023 - val_loss: 1.3764 - val_acc: 0.5069\n",
      "Epoch 50/50\n",
      "50000/50000 [==============================] - 13s 252us/step - loss: 1.3724 - acc: 0.5057 - val_loss: 1.3999 - val_acc: 0.4969\n"
     ]
    }
   ],
   "source": [
    "results = {}\n",
    "\"\"\"Code Here\n",
    "撰寫你的訓練流程並將結果用 dictionary 紀錄\n",
    "\"\"\"\n",
    "model = build_mlp(input_shape=x_train.shape[1:], drp_ratio=Dropout_EXP)\n",
    "model.summary()\n",
    "optimizer = keras.optimizers.Adam(lr=LEARNING_RATE, epsilon=None, decay=0.0)\n",
    "model.compile(loss=\"categorical_crossentropy\", metrics=[\"accuracy\"], optimizer=optimizer)\n",
    "\n",
    "model.fit(x_train, y_train, \n",
    "          epochs=EPOCHS, \n",
    "          batch_size=BATCH_SIZE, \n",
    "          validation_data=(x_test, y_test), \n",
    "          shuffle=True)\n",
    "\n",
    "# Collect results\n",
    "train_loss = model.history.history[\"loss\"]\n",
    "valid_loss = model.history.history[\"val_loss\"]\n",
    "train_acc = model.history.history[\"acc\"]\n",
    "valid_acc = model.history.history[\"val_acc\"]"
   ]
  },
  {
   "cell_type": "code",
   "execution_count": 8,
   "metadata": {},
   "outputs": [
    {
     "data": {
      "image/png": "[encoded data removed]",
      "text/plain": [
       "<Figure size 432x288 with 1 Axes>"
      ]
     },
     "metadata": {
      "needs_background": "light"
     },
     "output_type": "display_data"
    },
    {
     "data": {
      "image/png": "[encoded data removed]",
      "text/plain": [
       "<Figure size 432x288 with 1 Axes>"
      ]
     },
     "metadata": {
      "needs_background": "light"
     },
     "output_type": "display_data"
    }
   ],
   "source": [
    "import matplotlib.pyplot as plt\n",
    "%matplotlib inline\n",
    "\n",
    "plt.plot(range(len(train_loss)), train_loss, label=\"train loss\")\n",
    "plt.plot(range(len(valid_loss)), valid_loss, label=\"valid loss\")\n",
    "plt.legend()\n",
    "plt.title(\"Loss\")\n",
    "plt.show()\n",
    "\n",
    "plt.plot(range(len(train_acc)), train_acc, label=\"train accuracy\")\n",
    "plt.plot(range(len(valid_acc)), valid_acc, label=\"valid accuracy\")\n",
    "plt.legend()\n",
    "plt.title(\"Accuracy\")\n",
    "plt.show()"
   ]
  },
  {
   "cell_type": "code",
   "execution_count": null,
   "metadata": {},
   "outputs": [],
   "source": []
  }
 ],
 "metadata": {
  "kernelspec": {
   "display_name": "Python 3",
   "language": "python",
   "name": "python3"
  },
  "language_info": {
   "codemirror_mode": {
    "name": "ipython",
    "version": 3
   },
   "file_extension": ".py",
   "mimetype": "text/x-python",
   "name": "python",
   "nbconvert_exporter": "python",
   "pygments_lexer": "ipython3",
   "version": "3.7.3"
  }
 },
 "nbformat": 4,
 "nbformat_minor": 2
}
