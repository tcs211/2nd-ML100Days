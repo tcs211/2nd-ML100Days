{
 "cells": [
  {
   "cell_type": "markdown",
   "metadata": {},
   "source": [
    "## Work\n",
    "1. 試比較 save_best_only 與否的差異\n",
    "2. 請僅存入將 save_weights_only 設定為 True, 並嘗試 reset ipynb 並將模型與權重重新建回並預測 x_test"
   ]
  },
  {
   "cell_type": "code",
   "execution_count": 1,
   "metadata": {},
   "outputs": [
    {
     "name": "stderr",
     "output_type": "stream",
     "text": [
      "Using TensorFlow backend.\n"
     ]
    }
   ],
   "source": [
    "import os\n",
    "import keras\n",
    "\n",
    "# Disable GPU\n",
    "os.environ[\"CUDA_VISIBLE_DEVICES\"] = \"\""
   ]
  },
  {
   "cell_type": "code",
   "execution_count": 2,
   "metadata": {},
   "outputs": [],
   "source": [
    "train, test = keras.datasets.cifar10.load_data()"
   ]
  },
  {
   "cell_type": "code",
   "execution_count": 3,
   "metadata": {},
   "outputs": [],
   "source": [
    "## 資料前處理\n",
    "def preproc_x(x, flatten=True):\n",
    "    x = x / 255.\n",
    "    if flatten:\n",
    "        x = x.reshape((len(x), -1))\n",
    "    return x\n",
    "\n",
    "def preproc_y(y, num_classes=10):\n",
    "    if y.shape[-1] == 1:\n",
    "        y = keras.utils.to_categorical(y, num_classes)\n",
    "    return y    "
   ]
  },
  {
   "cell_type": "code",
   "execution_count": 4,
   "metadata": {},
   "outputs": [],
   "source": [
    "x_train, y_train = train\n",
    "x_test, y_test = test\n",
    "\n",
    "# Preproc the inputs\n",
    "x_train = preproc_x(x_train)\n",
    "x_test = preproc_x(x_test)\n",
    "\n",
    "# Preprc the outputs\n",
    "y_train = preproc_y(y_train)\n",
    "y_test = preproc_y(y_test)"
   ]
  },
  {
   "cell_type": "code",
   "execution_count": 5,
   "metadata": {},
   "outputs": [],
   "source": [
    "from keras.layers import BatchNormalization\n",
    "\n",
    "\"\"\"\n",
    "建立神經網路，並加入 BN layer\n",
    "\"\"\"\n",
    "def build_mlp(input_shape, output_units=10, num_neurons=[512, 256, 128]):\n",
    "    input_layer = keras.layers.Input(input_shape)\n",
    "    \n",
    "    for i, n_units in enumerate(num_neurons):\n",
    "        if i == 0:\n",
    "            x = keras.layers.Dense(units=n_units, \n",
    "                                   activation=\"relu\", \n",
    "                                   name=\"hidden_layer\"+str(i+1))(input_layer)\n",
    "            x = BatchNormalization()(x)\n",
    "        else:\n",
    "            x = keras.layers.Dense(units=n_units, \n",
    "                                   activation=\"relu\", \n",
    "                                   name=\"hidden_layer\"+str(i+1))(x)\n",
    "            x = BatchNormalization()(x)\n",
    "    \n",
    "    out = keras.layers.Dense(units=output_units, activation=\"softmax\", name=\"output\")(x)\n",
    "    \n",
    "    model = keras.models.Model(inputs=[input_layer], outputs=[out])\n",
    "    return model"
   ]
  },
  {
   "cell_type": "code",
   "execution_count": 6,
   "metadata": {},
   "outputs": [],
   "source": [
    "## 超參數設定\n",
    "LEARNING_RATE = 1e-3\n",
    "EPOCHS = 50\n",
    "BATCH_SIZE = 1024\n",
    "MOMENTUM = 0.95"
   ]
  },
  {
   "cell_type": "code",
   "execution_count": 8,
   "metadata": {},
   "outputs": [
    {
     "name": "stdout",
     "output_type": "stream",
     "text": [
      "_________________________________________________________________\n",
      "Layer (type)                 Output Shape              Param #   \n",
      "=================================================================\n",
      "input_2 (InputLayer)         (None, 3072)              0         \n",
      "_________________________________________________________________\n",
      "hidden_layer1 (Dense)        (None, 512)               1573376   \n",
      "_________________________________________________________________\n",
      "batch_normalization_4 (Batch (None, 512)               2048      \n",
      "_________________________________________________________________\n",
      "hidden_layer2 (Dense)        (None, 256)               131328    \n",
      "_________________________________________________________________\n",
      "batch_normalization_5 (Batch (None, 256)               1024      \n",
      "_________________________________________________________________\n",
      "hidden_layer3 (Dense)        (None, 128)               32896     \n",
      "_________________________________________________________________\n",
      "batch_normalization_6 (Batch (None, 128)               512       \n",
      "_________________________________________________________________\n",
      "output (Dense)               (None, 10)                1290      \n",
      "=================================================================\n",
      "Total params: 1,742,474\n",
      "Trainable params: 1,740,682\n",
      "Non-trainable params: 1,792\n",
      "_________________________________________________________________\n",
      "Train on 50000 samples, validate on 10000 samples\n",
      "Epoch 1/50\n",
      "50000/50000 [==============================] - 21s 421us/step - loss: 2.2419 - acc: 0.2654 - val_loss: 2.1020 - val_acc: 0.3201\n",
      "Epoch 2/50\n",
      "50000/50000 [==============================] - 17s 344us/step - loss: 1.7429 - acc: 0.3925 - val_loss: 1.7921 - val_acc: 0.3878\n",
      "Epoch 3/50\n",
      "50000/50000 [==============================] - 17s 346us/step - loss: 1.6149 - acc: 0.4336 - val_loss: 1.6848 - val_acc: 0.4186\n",
      "Epoch 4/50\n",
      "50000/50000 [==============================] - 17s 345us/step - loss: 1.5373 - acc: 0.4621 - val_loss: 1.6244 - val_acc: 0.4308\n",
      "Epoch 5/50\n",
      "50000/50000 [==============================] - 17s 339us/step - loss: 1.4793 - acc: 0.4828 - val_loss: 1.5892 - val_acc: 0.4377\n",
      "Epoch 6/50\n",
      "50000/50000 [==============================] - 17s 340us/step - loss: 1.4340 - acc: 0.4987 - val_loss: 1.5753 - val_acc: 0.4445\n",
      "Epoch 7/50\n",
      "50000/50000 [==============================] - 17s 342us/step - loss: 1.3949 - acc: 0.5157 - val_loss: 1.5397 - val_acc: 0.4559\n",
      "Epoch 8/50\n",
      "50000/50000 [==============================] - 17s 345us/step - loss: 1.3576 - acc: 0.5278 - val_loss: 1.5357 - val_acc: 0.4596\n",
      "Epoch 9/50\n",
      "50000/50000 [==============================] - 17s 345us/step - loss: 1.3250 - acc: 0.5394 - val_loss: 1.5082 - val_acc: 0.4722\n",
      "Epoch 10/50\n",
      "50000/50000 [==============================] - 14s 279us/step - loss: 1.2965 - acc: 0.5517 - val_loss: 1.5012 - val_acc: 0.4752\n",
      "Epoch 11/50\n",
      "50000/50000 [==============================] - 11s 214us/step - loss: 1.2690 - acc: 0.5612 - val_loss: 1.5010 - val_acc: 0.4738\n",
      "Epoch 12/50\n",
      "50000/50000 [==============================] - 9s 177us/step - loss: 1.2412 - acc: 0.5703 - val_loss: 1.4799 - val_acc: 0.4772\n",
      "Epoch 13/50\n",
      "50000/50000 [==============================] - 10s 202us/step - loss: 1.2157 - acc: 0.5801 - val_loss: 1.4981 - val_acc: 0.4753\n",
      "Epoch 14/50\n",
      "50000/50000 [==============================] - 12s 233us/step - loss: 1.1913 - acc: 0.5891 - val_loss: 1.4736 - val_acc: 0.4809\n",
      "Epoch 15/50\n",
      "50000/50000 [==============================] - 12s 241us/step - loss: 1.1666 - acc: 0.5999 - val_loss: 1.4617 - val_acc: 0.4865\n",
      "Epoch 16/50\n",
      "50000/50000 [==============================] - 12s 243us/step - loss: 1.1436 - acc: 0.6072 - val_loss: 1.4612 - val_acc: 0.4883\n",
      "Epoch 17/50\n",
      "50000/50000 [==============================] - 12s 237us/step - loss: 1.1204 - acc: 0.6157 - val_loss: 1.4702 - val_acc: 0.4837\n",
      "Epoch 18/50\n",
      "50000/50000 [==============================] - 12s 244us/step - loss: 1.0980 - acc: 0.6250 - val_loss: 1.4600 - val_acc: 0.4889\n",
      "Epoch 19/50\n",
      "50000/50000 [==============================] - 12s 242us/step - loss: 1.0745 - acc: 0.6329 - val_loss: 1.4509 - val_acc: 0.4863\n",
      "Epoch 20/50\n",
      "50000/50000 [==============================] - 12s 240us/step - loss: 1.0538 - acc: 0.6412 - val_loss: 1.4647 - val_acc: 0.4879\n",
      "Epoch 21/50\n",
      "50000/50000 [==============================] - 12s 238us/step - loss: 1.0341 - acc: 0.6486 - val_loss: 1.4537 - val_acc: 0.4880\n",
      "Epoch 22/50\n",
      "50000/50000 [==============================] - 12s 239us/step - loss: 1.0124 - acc: 0.6581 - val_loss: 1.4547 - val_acc: 0.4922\n",
      "Epoch 23/50\n",
      "50000/50000 [==============================] - 12s 239us/step - loss: 0.9918 - acc: 0.6652 - val_loss: 1.4661 - val_acc: 0.4919\n",
      "Epoch 24/50\n",
      "50000/50000 [==============================] - 12s 247us/step - loss: 0.9713 - acc: 0.6735 - val_loss: 1.4578 - val_acc: 0.4921\n",
      "Epoch 25/50\n",
      "50000/50000 [==============================] - 12s 241us/step - loss: 0.9512 - acc: 0.6804 - val_loss: 1.4736 - val_acc: 0.4935\n",
      "Epoch 26/50\n",
      "50000/50000 [==============================] - 12s 244us/step - loss: 0.9318 - acc: 0.6877 - val_loss: 1.4568 - val_acc: 0.4953\n",
      "Epoch 27/50\n",
      "50000/50000 [==============================] - 12s 244us/step - loss: 0.9102 - acc: 0.6980 - val_loss: 1.4664 - val_acc: 0.4950\n",
      "Epoch 28/50\n",
      "50000/50000 [==============================] - 12s 245us/step - loss: 0.8906 - acc: 0.7041 - val_loss: 1.4909 - val_acc: 0.4905\n",
      "Epoch 29/50\n",
      "50000/50000 [==============================] - 12s 241us/step - loss: 0.8719 - acc: 0.7127 - val_loss: 1.4822 - val_acc: 0.4924\n",
      "Epoch 30/50\n",
      "50000/50000 [==============================] - 12s 244us/step - loss: 0.8522 - acc: 0.7198 - val_loss: 1.4886 - val_acc: 0.4922\n",
      "Epoch 31/50\n",
      "50000/50000 [==============================] - 12s 236us/step - loss: 0.8318 - acc: 0.7278 - val_loss: 1.4967 - val_acc: 0.4868\n",
      "Epoch 32/50\n",
      "50000/50000 [==============================] - 12s 238us/step - loss: 0.8118 - acc: 0.7355 - val_loss: 1.4961 - val_acc: 0.4930\n",
      "Epoch 33/50\n",
      "50000/50000 [==============================] - 9s 186us/step - loss: 0.7923 - acc: 0.7433 - val_loss: 1.5135 - val_acc: 0.4865\n",
      "Epoch 34/50\n",
      "50000/50000 [==============================] - 10s 193us/step - loss: 0.7745 - acc: 0.7487 - val_loss: 1.5155 - val_acc: 0.4940\n",
      "Epoch 35/50\n",
      "50000/50000 [==============================] - 12s 240us/step - loss: 0.7561 - acc: 0.7570 - val_loss: 1.5222 - val_acc: 0.4860\n",
      "Epoch 36/50\n",
      "50000/50000 [==============================] - 12s 249us/step - loss: 0.7355 - acc: 0.7674 - val_loss: 1.5409 - val_acc: 0.4866\n",
      "Epoch 37/50\n",
      "50000/50000 [==============================] - 12s 246us/step - loss: 0.7198 - acc: 0.7718 - val_loss: 1.5397 - val_acc: 0.4901\n",
      "Epoch 38/50\n",
      "50000/50000 [==============================] - 12s 246us/step - loss: 0.7009 - acc: 0.7788 - val_loss: 1.5475 - val_acc: 0.4911\n",
      "Epoch 39/50\n",
      "50000/50000 [==============================] - 12s 244us/step - loss: 0.6808 - acc: 0.7887 - val_loss: 1.5595 - val_acc: 0.4900\n",
      "Epoch 40/50\n",
      "50000/50000 [==============================] - 12s 239us/step - loss: 0.6618 - acc: 0.7945 - val_loss: 1.5599 - val_acc: 0.4879\n",
      "Epoch 41/50\n",
      "50000/50000 [==============================] - 12s 239us/step - loss: 0.6436 - acc: 0.8011 - val_loss: 1.5829 - val_acc: 0.4826\n",
      "Epoch 42/50\n",
      "50000/50000 [==============================] - 12s 238us/step - loss: 0.6282 - acc: 0.8081 - val_loss: 1.5898 - val_acc: 0.4924\n",
      "Epoch 43/50\n",
      "50000/50000 [==============================] - 12s 238us/step - loss: 0.6087 - acc: 0.8167 - val_loss: 1.6003 - val_acc: 0.4919\n",
      "Epoch 44/50\n",
      "50000/50000 [==============================] - 12s 243us/step - loss: 0.5920 - acc: 0.8232 - val_loss: 1.6366 - val_acc: 0.4829\n",
      "Epoch 45/50\n",
      "50000/50000 [==============================] - 12s 239us/step - loss: 0.5734 - acc: 0.8311 - val_loss: 1.6296 - val_acc: 0.4857\n",
      "Epoch 46/50\n",
      "50000/50000 [==============================] - 12s 239us/step - loss: 0.5584 - acc: 0.8379 - val_loss: 1.6486 - val_acc: 0.4780\n",
      "Epoch 47/50\n",
      "50000/50000 [==============================] - 12s 247us/step - loss: 0.5397 - acc: 0.8438 - val_loss: 1.6792 - val_acc: 0.4787\n",
      "Epoch 48/50\n",
      "50000/50000 [==============================] - 12s 243us/step - loss: 0.5245 - acc: 0.8502 - val_loss: 1.6735 - val_acc: 0.4822\n",
      "Epoch 49/50\n"
     ]
    },
    {
     "name": "stdout",
     "output_type": "stream",
     "text": [
      "50000/50000 [==============================] - 12s 240us/step - loss: 0.5087 - acc: 0.8555 - val_loss: 1.7220 - val_acc: 0.4737\n",
      "Epoch 50/50\n",
      "50000/50000 [==============================] - 12s 237us/step - loss: 0.4924 - acc: 0.8624 - val_loss: 1.7114 - val_acc: 0.4802\n",
      "10000/10000 [==============================] - 3s 253us/step\n"
     ]
    }
   ],
   "source": [
    "\"\"\"\n",
    "# 載入 Callbacks, 並將監控目標設為 validation loss, 且只存最佳參數時的模型\n",
    "\"\"\"\n",
    "from keras.callbacks import ModelCheckpoint\n",
    "\n",
    "model_ckpt = ModelCheckpoint(filepath=\"./tmp.h5\", \n",
    "                             monitor=\"val_loss\", \n",
    "                             save_best_only=True,save_weights_only=True)\n",
    "\n",
    "\n",
    "model = build_mlp(input_shape=x_train.shape[1:])\n",
    "model.summary()\n",
    "optimizer = keras.optimizers.SGD(lr=LEARNING_RATE, nesterov=True, momentum=MOMENTUM)\n",
    "model.compile(loss=\"categorical_crossentropy\", metrics=[\"accuracy\"], optimizer=optimizer)\n",
    "\n",
    "model.fit(x_train, y_train, \n",
    "          epochs=EPOCHS, \n",
    "          batch_size=BATCH_SIZE, \n",
    "          validation_data=(x_test, y_test), \n",
    "          shuffle=True,\n",
    "          callbacks=[model_ckpt]\n",
    "         )\n",
    "\n",
    "model.save(\"model.h5\")\n",
    "\n",
    "# Collect results\n",
    "train_loss = model.history.history[\"loss\"]\n",
    "valid_loss = model.history.history[\"val_loss\"]\n",
    "train_acc = model.history.history[\"acc\"]\n",
    "valid_acc = model.history.history[\"val_acc\"]\n",
    "\n",
    "# Load back\n",
    "model.load_weights('model.h5')\n",
    "loss_loadback, acc_loadback = model.evaluate(x_test, y_test)"
   ]
  },
  {
   "cell_type": "code",
   "execution_count": 9,
   "metadata": {
    "scrolled": true
   },
   "outputs": [
    {
     "data": {
      "image/png": "[encoded data removed]",
      "text/plain": [
       "<Figure size 432x288 with 1 Axes>"
      ]
     },
     "metadata": {
      "needs_background": "light"
     },
     "output_type": "display_data"
    },
    {
     "data": {
      "image/png": "[encoded data removed]",
      "text/plain": [
       "<Figure size 432x288 with 1 Axes>"
      ]
     },
     "metadata": {
      "needs_background": "light"
     },
     "output_type": "display_data"
    }
   ],
   "source": [
    "import matplotlib.pyplot as plt\n",
    "%matplotlib inline\n",
    "\n",
    "plt.plot(range(len(train_loss)), train_loss, label=\"train loss\")\n",
    "plt.plot(range(len(valid_loss)), valid_loss, label=\"valid loss\")\n",
    "plt.hlines(y=loss_loadback, xmin=0, xmax=len(train_loss), colors='r', linestyles='--')\n",
    "plt.legend()\n",
    "plt.title(\"Loss\")\n",
    "plt.show()\n",
    "\n",
    "plt.plot(range(len(train_acc)), train_acc, label=\"train accuracy\")\n",
    "plt.plot(range(len(valid_acc)), valid_acc, label=\"valid accuracy\")\n",
    "plt.hlines(y=acc_loadback, xmin=0, xmax=len(train_loss), colors='r', linestyles='--')\n",
    "plt.legend()\n",
    "plt.title(\"Accuracy\")\n",
    "plt.show()"
   ]
  },
  {
   "cell_type": "code",
   "execution_count": null,
   "metadata": {},
   "outputs": [],
   "source": []
  }
 ],
 "metadata": {
  "kernelspec": {
   "display_name": "Python 3",
   "language": "python",
   "name": "python3"
  },
  "language_info": {
   "codemirror_mode": {
    "name": "ipython",
    "version": 3
   },
   "file_extension": ".py",
   "mimetype": "text/x-python",
   "name": "python",
   "nbconvert_exporter": "python",
   "pygments_lexer": "ipython3",
   "version": "3.7.3"
  }
 },
 "nbformat": 4,
 "nbformat_minor": 2
}
