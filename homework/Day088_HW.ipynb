{
 "cells": [
  {
   "cell_type": "markdown",
   "metadata": {},
   "source": [
    "## Work\n",
    "1. 請嘗試寫一個 callback 用來記錄各類別在訓練過程中，對驗證集的 True Positive 與 True Negative"
   ]
  },
  {
   "cell_type": "code",
   "execution_count": 1,
   "metadata": {},
   "outputs": [
    {
     "name": "stderr",
     "output_type": "stream",
     "text": [
      "Using TensorFlow backend.\n"
     ]
    }
   ],
   "source": [
    "import os\n",
    "import keras\n",
    "\n",
    "# Disable GPU\n",
    "os.environ[\"CUDA_VISIBLE_DEVICES\"] = \"\""
   ]
  },
  {
   "cell_type": "code",
   "execution_count": 2,
   "metadata": {},
   "outputs": [],
   "source": [
    "train, test = keras.datasets.cifar10.load_data()"
   ]
  },
  {
   "cell_type": "code",
   "execution_count": 3,
   "metadata": {},
   "outputs": [],
   "source": [
    "## 資料前處理\n",
    "def preproc_x(x, flatten=True):\n",
    "    x = x / 255.\n",
    "    if flatten:\n",
    "        x = x.reshape((len(x), -1))\n",
    "    return x\n",
    "\n",
    "def preproc_y(y, num_classes=10):\n",
    "    if y.shape[-1] == 1:\n",
    "        y = keras.utils.to_categorical(y, num_classes)\n",
    "    return y    "
   ]
  },
  {
   "cell_type": "code",
   "execution_count": 4,
   "metadata": {},
   "outputs": [],
   "source": [
    "x_train, y_train = train\n",
    "x_test, y_test = test\n",
    "\n",
    "# Preproc the inputs\n",
    "x_train = preproc_x(x_train)\n",
    "x_test = preproc_x(x_test)\n",
    "\n",
    "# Preprc the outputs\n",
    "y_train = preproc_y(y_train)\n",
    "y_test = preproc_y(y_test)"
   ]
  },
  {
   "cell_type": "code",
   "execution_count": 5,
   "metadata": {},
   "outputs": [],
   "source": [
    "from keras.layers import BatchNormalization\n",
    "\n",
    "\"\"\"\n",
    "建立神經網路，並加入 BN layer\n",
    "\"\"\"\n",
    "def build_mlp(input_shape, output_units=10, num_neurons=[512, 256, 128]):\n",
    "    input_layer = keras.layers.Input(input_shape)\n",
    "    \n",
    "    for i, n_units in enumerate(num_neurons):\n",
    "        if i == 0:\n",
    "            x = keras.layers.Dense(units=n_units, \n",
    "                                   activation=\"relu\", \n",
    "                                   name=\"hidden_layer\"+str(i+1))(input_layer)\n",
    "            x = BatchNormalization()(x)\n",
    "        else:\n",
    "            x = keras.layers.Dense(units=n_units, \n",
    "                                   activation=\"relu\", \n",
    "                                   name=\"hidden_layer\"+str(i+1))(x)\n",
    "            x = BatchNormalization()(x)\n",
    "    \n",
    "    out = keras.layers.Dense(units=output_units, activation=\"softmax\", name=\"output\")(x)\n",
    "    \n",
    "    model = keras.models.Model(inputs=[input_layer], outputs=[out])\n",
    "    return model"
   ]
  },
  {
   "cell_type": "code",
   "execution_count": 6,
   "metadata": {},
   "outputs": [],
   "source": [
    "## 超參數設定\n",
    "LEARNING_RATE = 1e-3\n",
    "EPOCHS = 25\n",
    "BATCH_SIZE = 1024\n",
    "MOMENTUM = 0.95"
   ]
  },
  {
   "cell_type": "code",
   "execution_count": 7,
   "metadata": {},
   "outputs": [],
   "source": [
    "from sklearn.metrics import confusion_matrix\n",
    "# 載入 Callbacks\n",
    "from keras.callbacks import Callback\n",
    "# Record_fp_tp\n",
    "\n",
    "class Record_tp_tn(Callback):\n",
    "    def on_train_begin(self, epoch, logs = {}):\n",
    "        logs = logs or {}\n",
    "        record_items = [\"val_auc\", \"val_f1sc\", \"val_fp\", \"val_fn\", \"val_tp\", \"val_tn\"]\n",
    "        for i in record_items:\n",
    "            if i not in self.params['metrics']:\n",
    "                self.params['metrics'].append(i)\n",
    "    \n",
    "    def on_epoch_end(self, epoch, logs = {}, thres=0.5):\n",
    "        logs = logs or {}\n",
    "        y_true = self.validation_data[1].argmax(axis = 1)\n",
    "        y_pred = self.model.predict(self.validation_data[0])\n",
    "        y_pred = (y_pred[:, 1] >= thres) * 1\n",
    "        tn, fp, fn, tp = confusion_matrix(y_true, y_pred,labels=[0,1]).ravel()\n",
    "        logs[\"val_tp\"] = tp\n",
    "        logs[\"val_tn\"] = tn\n",
    "        \n",
    "rec_tptn = Record_tp_tn()"
   ]
  },
  {
   "cell_type": "code",
   "execution_count": 8,
   "metadata": {
    "scrolled": true
   },
   "outputs": [
    {
     "name": "stderr",
     "output_type": "stream",
     "text": [
      "WARNING: Logging before flag parsing goes to stderr.\n",
      "W0723 22:50:26.516907  5064 deprecation_wrapper.py:119] From C:\\ProgramData\\Anaconda3\\lib\\site-packages\\keras\\backend\\tensorflow_backend.py:74: The name tf.get_default_graph is deprecated. Please use tf.compat.v1.get_default_graph instead.\n",
      "\n",
      "W0723 22:50:26.538847  5064 deprecation_wrapper.py:119] From C:\\ProgramData\\Anaconda3\\lib\\site-packages\\keras\\backend\\tensorflow_backend.py:517: The name tf.placeholder is deprecated. Please use tf.compat.v1.placeholder instead.\n",
      "\n",
      "W0723 22:50:26.543834  5064 deprecation_wrapper.py:119] From C:\\ProgramData\\Anaconda3\\lib\\site-packages\\keras\\backend\\tensorflow_backend.py:4138: The name tf.random_uniform is deprecated. Please use tf.random.uniform instead.\n",
      "\n",
      "W0723 22:50:26.643568  5064 deprecation_wrapper.py:119] From C:\\ProgramData\\Anaconda3\\lib\\site-packages\\keras\\backend\\tensorflow_backend.py:133: The name tf.placeholder_with_default is deprecated. Please use tf.compat.v1.placeholder_with_default instead.\n",
      "\n",
      "W0723 22:50:26.948750  5064 deprecation_wrapper.py:119] From C:\\ProgramData\\Anaconda3\\lib\\site-packages\\keras\\optimizers.py:790: The name tf.train.Optimizer is deprecated. Please use tf.compat.v1.train.Optimizer instead.\n",
      "\n",
      "W0723 22:50:26.959755  5064 deprecation_wrapper.py:119] From C:\\ProgramData\\Anaconda3\\lib\\site-packages\\keras\\backend\\tensorflow_backend.py:3295: The name tf.log is deprecated. Please use tf.math.log instead.\n",
      "\n",
      "W0723 22:50:27.064440  5064 deprecation.py:323] From C:\\ProgramData\\Anaconda3\\lib\\site-packages\\tensorflow\\python\\ops\\math_grad.py:1250: add_dispatch_support.<locals>.wrapper (from tensorflow.python.ops.array_ops) is deprecated and will be removed in a future version.\n",
      "Instructions for updating:\n",
      "Use tf.where in 2.0, which has the same broadcast rule as np.where\n"
     ]
    },
    {
     "name": "stdout",
     "output_type": "stream",
     "text": [
      "_________________________________________________________________\n",
      "Layer (type)                 Output Shape              Param #   \n",
      "=================================================================\n",
      "input_1 (InputLayer)         (None, 3072)              0         \n",
      "_________________________________________________________________\n",
      "hidden_layer1 (Dense)        (None, 512)               1573376   \n",
      "_________________________________________________________________\n",
      "batch_normalization_1 (Batch (None, 512)               2048      \n",
      "_________________________________________________________________\n",
      "hidden_layer2 (Dense)        (None, 256)               131328    \n",
      "_________________________________________________________________\n",
      "batch_normalization_2 (Batch (None, 256)               1024      \n",
      "_________________________________________________________________\n",
      "hidden_layer3 (Dense)        (None, 128)               32896     \n",
      "_________________________________________________________________\n",
      "batch_normalization_3 (Batch (None, 128)               512       \n",
      "_________________________________________________________________\n",
      "output (Dense)               (None, 10)                1290      \n",
      "=================================================================\n",
      "Total params: 1,742,474\n",
      "Trainable params: 1,740,682\n",
      "Non-trainable params: 1,792\n",
      "_________________________________________________________________\n",
      "Train on 50000 samples, validate on 10000 samples\n",
      "Epoch 1/25\n",
      "50000/50000 [==============================] - 8s 170us/step - loss: 2.2314 - acc: 0.2681 - val_loss: 2.1202 - val_acc: 0.3217\n",
      "Epoch 2/25\n",
      "50000/50000 [==============================] - 7s 139us/step - loss: 1.7601 - acc: 0.3891 - val_loss: 1.8223 - val_acc: 0.3757\n",
      "Epoch 3/25\n",
      "50000/50000 [==============================] - 6s 125us/step - loss: 1.6287 - acc: 0.4327 - val_loss: 1.7074 - val_acc: 0.4065\n",
      "Epoch 4/25\n",
      "50000/50000 [==============================] - 7s 137us/step - loss: 1.5536 - acc: 0.4574 - val_loss: 1.6467 - val_acc: 0.4197\n",
      "Epoch 5/25\n",
      "50000/50000 [==============================] - 7s 141us/step - loss: 1.4960 - acc: 0.4776 - val_loss: 1.5943 - val_acc: 0.4454\n",
      "Epoch 6/25\n",
      "50000/50000 [==============================] - 7s 147us/step - loss: 1.4483 - acc: 0.4937 - val_loss: 1.5645 - val_acc: 0.4463\n",
      "Epoch 7/25\n",
      "50000/50000 [==============================] - 8s 151us/step - loss: 1.4052 - acc: 0.5098 - val_loss: 1.5617 - val_acc: 0.4529\n",
      "Epoch 8/25\n",
      "50000/50000 [==============================] - 7s 141us/step - loss: 1.3692 - acc: 0.5221 - val_loss: 1.5325 - val_acc: 0.4573\n",
      "Epoch 9/25\n",
      "50000/50000 [==============================] - 7s 135us/step - loss: 1.3360 - acc: 0.5342 - val_loss: 1.5145 - val_acc: 0.4689\n",
      "Epoch 10/25\n",
      "50000/50000 [==============================] - 7s 136us/step - loss: 1.3046 - acc: 0.5450 - val_loss: 1.5044 - val_acc: 0.4717\n",
      "Epoch 11/25\n",
      "50000/50000 [==============================] - 7s 143us/step - loss: 1.2751 - acc: 0.5548 - val_loss: 1.4877 - val_acc: 0.4808\n",
      "Epoch 12/25\n",
      "50000/50000 [==============================] - 7s 149us/step - loss: 1.2472 - acc: 0.5669 - val_loss: 1.4880 - val_acc: 0.4778\n",
      "Epoch 13/25\n",
      "50000/50000 [==============================] - 7s 144us/step - loss: 1.2203 - acc: 0.5767 - val_loss: 1.4748 - val_acc: 0.4881\n",
      "Epoch 14/25\n",
      "50000/50000 [==============================] - 7s 144us/step - loss: 1.1955 - acc: 0.5871 - val_loss: 1.4708 - val_acc: 0.4873\n",
      "Epoch 15/25\n",
      "50000/50000 [==============================] - 7s 141us/step - loss: 1.1697 - acc: 0.5960 - val_loss: 1.4654 - val_acc: 0.4855\n",
      "Epoch 16/25\n",
      "50000/50000 [==============================] - 7s 138us/step - loss: 1.1445 - acc: 0.6063 - val_loss: 1.4725 - val_acc: 0.4856\n",
      "Epoch 17/25\n",
      "50000/50000 [==============================] - 7s 137us/step - loss: 1.1214 - acc: 0.6160 - val_loss: 1.4615 - val_acc: 0.4856\n",
      "Epoch 18/25\n",
      "50000/50000 [==============================] - 7s 137us/step - loss: 1.0986 - acc: 0.6233 - val_loss: 1.4609 - val_acc: 0.4903\n",
      "Epoch 19/25\n",
      "50000/50000 [==============================] - 7s 138us/step - loss: 1.0760 - acc: 0.6333 - val_loss: 1.4507 - val_acc: 0.4946\n",
      "Epoch 20/25\n",
      "50000/50000 [==============================] - 7s 137us/step - loss: 1.0529 - acc: 0.6402 - val_loss: 1.4639 - val_acc: 0.4962\n",
      "Epoch 21/25\n",
      "50000/50000 [==============================] - 7s 137us/step - loss: 1.0322 - acc: 0.6486 - val_loss: 1.4556 - val_acc: 0.4944\n",
      "Epoch 22/25\n",
      "50000/50000 [==============================] - 7s 138us/step - loss: 1.0114 - acc: 0.6589 - val_loss: 1.4560 - val_acc: 0.4960\n",
      "Epoch 23/25\n",
      "50000/50000 [==============================] - 7s 146us/step - loss: 0.9884 - acc: 0.6670 - val_loss: 1.4615 - val_acc: 0.4992\n",
      "Epoch 24/25\n",
      "50000/50000 [==============================] - 7s 147us/step - loss: 0.9695 - acc: 0.6720 - val_loss: 1.4649 - val_acc: 0.4975\n",
      "Epoch 25/25\n",
      "50000/50000 [==============================] - 7s 144us/step - loss: 0.9474 - acc: 0.6828 - val_loss: 1.4714 - val_acc: 0.5006\n"
     ]
    }
   ],
   "source": [
    "model = build_mlp(input_shape=x_train.shape[1:])\n",
    "model.summary()\n",
    "optimizer = keras.optimizers.SGD(lr=LEARNING_RATE, nesterov=True, momentum=MOMENTUM)\n",
    "model.compile(loss=\"categorical_crossentropy\", metrics=[\"accuracy\"], optimizer=optimizer)\n",
    "\n",
    "\"\"\"Code Here\n",
    "將 callbacks 放入模型訓練流程中\n",
    "\n",
    "\"\"\"\n",
    "model.fit(x_train, y_train, \n",
    "          epochs=EPOCHS, \n",
    "          batch_size=BATCH_SIZE, \n",
    "          validation_data=(x_test, y_test), \n",
    "          shuffle=True,\n",
    "          callbacks=[rec_tptn]\n",
    "         )\n",
    "\n",
    "# Collect results\n",
    "train_loss = model.history.history[\"loss\"]\n",
    "valid_loss = model.history.history[\"val_loss\"]\n",
    "train_acc = model.history.history[\"acc\"]\n",
    "valid_acc = model.history.history[\"val_acc\"]\n",
    "\n",
    "\"\"\"Code Here\n",
    "將 tp/tn 從訓練完的模型中取出\n",
    "\"\"\"\n",
    "valid_tp = model.history.history[\"val_tp\"]\n",
    "valid_tn = model.history.history[\"val_tn\"]"
   ]
  },
  {
   "cell_type": "code",
   "execution_count": 9,
   "metadata": {},
   "outputs": [
    {
     "data": {
      "image/png": "[encoded data removed]",
      "text/plain": [
       "<Figure size 432x288 with 1 Axes>"
      ]
     },
     "metadata": {
      "needs_background": "light"
     },
     "output_type": "display_data"
    },
    {
     "data": {
      "image/png": "[encoded data removed]",
      "text/plain": [
       "<Figure size 432x288 with 1 Axes>"
      ]
     },
     "metadata": {
      "needs_background": "light"
     },
     "output_type": "display_data"
    },
    {
     "data": {
      "image/png": "[encoded data removed]",
      "text/plain": [
       "<Figure size 432x288 with 1 Axes>"
      ]
     },
     "metadata": {
      "needs_background": "light"
     },
     "output_type": "display_data"
    }
   ],
   "source": [
    "import matplotlib.pyplot as plt\n",
    "%matplotlib inline\n",
    "\n",
    "plt.plot(range(len(train_loss)), train_loss, label=\"train loss\")\n",
    "plt.plot(range(len(valid_loss)), valid_loss, label=\"valid loss\")\n",
    "plt.legend()\n",
    "plt.title(\"Loss\")\n",
    "plt.show()\n",
    "\n",
    "plt.plot(range(len(train_acc)), train_acc, label=\"train accuracy\")\n",
    "plt.plot(range(len(valid_acc)), valid_acc, label=\"valid accuracy\")\n",
    "plt.legend()\n",
    "plt.title(\"Accuracy\")\n",
    "plt.show()\n",
    "\n",
    "plt.plot(range(len(valid_tp)), valid_tp, label=\"valid tp\", color=\"navy\")\n",
    "plt.plot(range(len(valid_tn)), valid_tn, label=\"valid tn\", color=\"red\")\n",
    "plt.legend()\n",
    "plt.title(\"True positives and True Negatives\")\n",
    "plt.show()\n"
   ]
  },
  {
   "cell_type": "code",
   "execution_count": null,
   "metadata": {},
   "outputs": [],
   "source": []
  }
 ],
 "metadata": {
  "kernelspec": {
   "display_name": "Python 3",
   "language": "python",
   "name": "python3"
  },
  "language_info": {
   "codemirror_mode": {
    "name": "ipython",
    "version": 3
   },
   "file_extension": ".py",
   "mimetype": "text/x-python",
   "name": "python",
   "nbconvert_exporter": "python",
   "pygments_lexer": "ipython3",
   "version": "3.7.3"
  }
 },
 "nbformat": 4,
 "nbformat_minor": 2
}
